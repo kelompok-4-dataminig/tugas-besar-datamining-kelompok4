{
 "cells": [
  {
   "cell_type": "code",
   "execution_count": 53,
   "id": "26b1a537",
   "metadata": {},
   "outputs": [],
   "source": [
    "import pandas as pd\n",
    "from datetime import datetime"
   ]
  },
  {
   "cell_type": "code",
   "execution_count": 54,
   "id": "c1c74b1d",
   "metadata": {},
   "outputs": [
    {
     "name": "stdout",
     "output_type": "stream",
     "text": [
      "Data sebelum diproses:\n",
      "   id source                                               text  \\\n",
      "0   1      x  gusy mending sunscreen omg apa yang amaterasun...   \n",
      "1   2      x  @yoenjaehyuk fw: hadalabo gokujyun (putih) / h...   \n",
      "2   3      x  Aku nemu promo menarik di Lazada nih. Yuk coba...   \n",
      "3   4      x  Haloooo aku maw preloved skincare pemakaian pr...   \n",
      "4   5      x  Gusyyyy mungkin ada yg pake sunscreen amateras...   \n",
      "\n",
      "                       created_at sentimen  skor_sentimen  \n",
      "0  Mon Jun 16 03:20:32 +0000 2025  neutral       0.987218  \n",
      "1  Mon Jun 16 01:24:07 +0000 2025  neutral       0.776992  \n",
      "2  Sun Jun 15 17:27:30 +0000 2025  neutral       0.960741  \n",
      "3  Sun Jun 15 12:16:36 +0000 2025  neutral       0.819093  \n",
      "4  Sun Jun 15 11:31:34 +0000 2025  neutral       0.993792  \n"
     ]
    }
   ],
   "source": [
    "df = pd.read_csv('../data/processed/hasil_sentimen.csv')\n",
    "print(\"Data sebelum diproses:\")\n",
    "print(df.head())"
   ]
  },
  {
   "cell_type": "code",
   "execution_count": 55,
   "id": "89bb8dde",
   "metadata": {},
   "outputs": [],
   "source": [
    "def convert_date(date_str):\n",
    "    try:\n",
    "        # Format dari Twitter atau X\n",
    "        dt = datetime.strptime(date_str, \"%a %b %d %H:%M:%S %z %Y\")\n",
    "        return dt.strftime(\"%Y-%m-%d\")\n",
    "    except:\n",
    "        return date_str  # Jika gagal, biarkan tetap\n",
    "\n",
    "df['created_at'] = df['created_at'].apply(convert_date)\n"
   ]
  },
  {
   "cell_type": "code",
   "execution_count": 56,
   "id": "e1360034",
   "metadata": {},
   "outputs": [],
   "source": [
    "def fix_date(date_str):\n",
    "    date_str = str(date_str)\n",
    "    known_formats = [\n",
    "        \"%a %b %d %H:%M:%S %z %Y\",  # Twitter/X full format\n",
    "        \"%d/%m/%Y\",                # Format seperti 31/05/2025\n",
    "        \"%Y-%m-%d\"                 # Sudah benar\n",
    "    ]\n",
    "    for fmt in known_formats:\n",
    "        try:\n",
    "            return datetime.strptime(date_str, fmt).strftime(\"%Y-%m-%d\")\n",
    "        except:\n",
    "            continue\n",
    "    return date_str  # Jika tak cocok format, dikembalikan apa adanya\n",
    "\n",
    "# Terapkan ke semua baris kolom created_at\n",
    "df['created_at'] = df['created_at'].apply(fix_date)\n"
   ]
  },
  {
   "cell_type": "code",
   "execution_count": 57,
   "id": "c297622b",
   "metadata": {},
   "outputs": [
    {
     "name": "stdout",
     "output_type": "stream",
     "text": [
      "   id source                                               text  created_at  \\\n",
      "0   1      x  gusy mending sunscreen omg apa yang amaterasun...  2025-06-16   \n",
      "1   2      x  @yoenjaehyuk fw: hadalabo gokujyun (putih) / h...  2025-06-16   \n",
      "2   3      x  Aku nemu promo menarik di Lazada nih. Yuk coba...  2025-06-15   \n",
      "3   4      x  Haloooo aku maw preloved skincare pemakaian pr...  2025-06-15   \n",
      "4   5      x  Gusyyyy mungkin ada yg pake sunscreen amateras...  2025-06-15   \n",
      "\n",
      "  sentimen  skor_sentimen  \n",
      "0  neutral       0.987218  \n",
      "1  neutral       0.776992  \n",
      "2  neutral       0.960741  \n",
      "3  neutral       0.819093  \n",
      "4  neutral       0.993792  \n"
     ]
    }
   ],
   "source": [
    "print(df.head())"
   ]
  },
  {
   "cell_type": "code",
   "execution_count": 58,
   "id": "7b0c70d4",
   "metadata": {},
   "outputs": [],
   "source": [
    "import pandas as pd\n",
    "import re\n",
    "import string\n",
    "import os\n",
    "from Sastrawi.Stemmer.StemmerFactory import StemmerFactory\n",
    "from Sastrawi.StopWordRemover.StopWordRemoverFactory import StopWordRemoverFactory"
   ]
  },
  {
   "cell_type": "code",
   "execution_count": 59,
   "id": "811369e0",
   "metadata": {},
   "outputs": [],
   "source": [
    "stemmer = StemmerFactory().create_stemmer()\n",
    "stopword_remover = StopWordRemoverFactory().create_stop_word_remover()"
   ]
  },
  {
   "cell_type": "code",
   "execution_count": 60,
   "id": "253640eb",
   "metadata": {},
   "outputs": [],
   "source": [
    "# Fungsi preprocessing lengkap\n",
    "def preprocess(text):\n",
    "    # Lowercase\n",
    "    text = text.lower()\n",
    "    # Hapus username\n",
    "    text = re.sub(r'@\\w+', '', text)\n",
    "    # Hapus URL\n",
    "    text = re.sub(r'http\\S+|www.\\S+', '', text)\n",
    "    # Hapus angka dan tanda baca\n",
    "    text = re.sub(r'\\d+', '', text)\n",
    "    text = text.translate(str.maketrans('', '', string.punctuation))\n",
    "    # Hapus whitespace berlebih\n",
    "    text = text.strip()\n",
    "    # Hapus stopword\n",
    "    text = stopword_remover.remove(text)\n",
    "    # Stemming\n",
    "    text = stemmer.stem(text)\n",
    "    return text\n"
   ]
  },
  {
   "cell_type": "code",
   "execution_count": 61,
   "id": "654b6cad",
   "metadata": {},
   "outputs": [],
   "source": [
    "df[\"preprocessed_text\"] = df[\"text\"].apply(preprocess)"
   ]
  },
  {
   "cell_type": "code",
   "execution_count": 66,
   "id": "141cc96c",
   "metadata": {},
   "outputs": [],
   "source": [
    "keywords_penjual = [\n",
    "    # Kata jualan/promosi\n",
    "    \"jual\", \"harga\", \"diskon\", \"promo\", \"gratis\", \"murah\", \"hemat\",\n",
    "    \"beli\", \"pesan\", \"checkout\", \"ready\", \"stock\", \"open po\", \"preorder\",\n",
    "    \"limited\", \"termurah\", \"cepat\", \"promo gila\", \"borong\", \"paket\", \"cuma\", \"hanya\",\n",
    "\n",
    "    # Call to action\n",
    "    \"order\", \"dm\", \"chat\", \"klik\", \"kunjungi\", \"swipe\", \"cek link\", \"lihat link\",\n",
    "    \"yuk cek\", \"yuk beli\", \"buruan\", \"dapetin\", \"dapatkan\", \"langsung aja\", \"langsung dm\",\n",
    "\n",
    "    # Transaksi dan kontak\n",
    "    \"transfer\", \"cod\", \"bayar\", \"rekening\", \"no rek\", \"ongkir\", \"wa\", \"whatsapp\", \"linktree\",\n",
    "    \"tokopedia\", \"shopee\", \"lazada\", \"blibli\", \"checkout sekarang\",\n",
    "\n",
    "    # Istilah jualan preloved atau dropship\n",
    "    \"preloved\", \"second\", \"bekas\", \"bisa nego\", \"nego\", \"reseller\", \"dropship\", \"stok terbatas\",\n",
    "\n",
    "    # Penawaran dan tawaran\n",
    "    \"tawar\", \"tawaran\", \"grab\", \"ambil\", \"ambil sekarang\", \"open slot\", \"promo spesial\"\n",
    "]\n",
    "\n",
    "def is_penjual(text):\n",
    "    text = str(text).lower()\n",
    "    return any(keyword in text for keyword in keywords_penjual)"
   ]
  },
  {
   "cell_type": "code",
   "execution_count": 67,
   "id": "0fb3cae0",
   "metadata": {},
   "outputs": [],
   "source": [
    "df['is_penjual'] = df['preprocessed_text'].apply(is_penjual)\n",
    "df_final = df[~df['is_penjual']].drop(columns=['is_penjual'])"
   ]
  },
  {
   "cell_type": "code",
   "execution_count": 68,
   "id": "82da159d",
   "metadata": {},
   "outputs": [],
   "source": [
    "df_final = df_final[['id', 'source', 'created_at', 'preprocessed_text', 'sentimen', 'skor_sentimen']]\n"
   ]
  },
  {
   "cell_type": "code",
   "execution_count": 69,
   "id": "078f0976",
   "metadata": {},
   "outputs": [],
   "source": [
    "os.makedirs('../data/processed', exist_ok=True)\n",
    "df_final.to_csv('../data/processed/done.csv', index=False)"
   ]
  },
  {
   "cell_type": "code",
   "execution_count": null,
   "id": "0bdcad56",
   "metadata": {},
   "outputs": [],
   "source": []
  }
 ],
 "metadata": {
  "kernelspec": {
   "display_name": "base",
   "language": "python",
   "name": "python3"
  },
  "language_info": {
   "codemirror_mode": {
    "name": "ipython",
    "version": 3
   },
   "file_extension": ".py",
   "mimetype": "text/x-python",
   "name": "python",
   "nbconvert_exporter": "python",
   "pygments_lexer": "ipython3",
   "version": "3.10.9"
  }
 },
 "nbformat": 4,
 "nbformat_minor": 5
}
