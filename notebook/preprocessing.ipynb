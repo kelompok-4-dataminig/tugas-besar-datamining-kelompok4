{
 "cells": [
  {
   "cell_type": "code",
   "execution_count": 53,
   "id": "26b1a537",
   "metadata": {},
   "outputs": [],
   "source": [
    "import pandas as pd\n",
    "from datetime import datetime"
   ]
  },
  {
   "cell_type": "code",
   "execution_count": 54,
   "id": "c1c74b1d",
   "metadata": {},
   "outputs": [
    {
     "name": "stdout",
     "output_type": "stream",
     "text": [
      "Data sebelum diproses:\n",
      "   id source                                               text  \\\n",
      "0   1      x  gusy mending sunscreen omg apa yang amaterasun...   \n",
      "1   2      x  @yoenjaehyuk fw: hadalabo gokujyun (putih) / h...   \n",
      "2   3      x  Aku nemu promo menarik di Lazada nih. Yuk coba...   \n",
      "3   4      x  Haloooo aku maw preloved skincare pemakaian pr...   \n",
      "4   5      x  Gusyyyy mungkin ada yg pake sunscreen amateras...   \n",
      "\n",
      "                       created_at sentimen  skor_sentimen  \n",
      "0  Mon Jun 16 03:20:32 +0000 2025  neutral       0.987218  \n",
      "1  Mon Jun 16 01:24:07 +0000 2025  neutral       0.776992  \n",
      "2  Sun Jun 15 17:27:30 +0000 2025  neutral       0.960741  \n",
      "3  Sun Jun 15 12:16:36 +0000 2025  neutral       0.819093  \n",
      "4  Sun Jun 15 11:31:34 +0000 2025  neutral       0.993792  \n"
     ]
    }
   ],
   "source": [
    "df = pd.read_csv('../data/processed/hasil_sentimen.csv')\n",
    "print(\"Data sebelum diproses:\")\n",
    "print(df.head())"
   ]
  },
  {
   "cell_type": "code",
   "execution_count": 55,
   "id": "89bb8dde",
   "metadata": {},
   "outputs": [],
   "source": [
    "def convert_date(date_str):\n",
    "    try:\n",
    "        # Format dari Twitter atau X\n",
    "        dt = datetime.strptime(date_str, \"%a %b %d %H:%M:%S %z %Y\")\n",
    "        return dt.strftime(\"%Y-%m-%d\")\n",
    "    except:\n",
    "        return date_str  # Jika gagal, biarkan tetap\n",
    "\n",
    "df['created_at'] = df['created_at'].apply(convert_date)\n"
   ]
  },
  {
   "cell_type": "code",
   "execution_count": 56,
   "id": "e1360034",
   "metadata": {},
   "outputs": [],
   "source": [
    "def fix_date(date_str):\n",
    "    date_str = str(date_str)\n",
    "    known_formats = [\n",
    "        \"%a %b %d %H:%M:%S %z %Y\",  # Twitter/X full format\n",
    "        \"%d/%m/%Y\",                # Format seperti 31/05/2025\n",
    "        \"%Y-%m-%d\"                 # Sudah benar\n",
    "    ]\n",
    "    for fmt in known_formats:\n",
    "        try:\n",
    "            return datetime.strptime(date_str, fmt).strftime(\"%Y-%m-%d\")\n",
    "        except:\n",
    "            continue\n",
    "    return date_str  # Jika tak cocok format, dikembalikan apa adanya\n",
    "\n",
    "# Terapkan ke semua baris kolom created_at\n",
    "df['created_at'] = df['created_at'].apply(fix_date)\n"
   ]
  },
  {
   "cell_type": "code",
   "execution_count": 57,
   "id": "c297622b",
   "metadata": {},
   "outputs": [
    {
     "name": "stdout",
     "output_type": "stream",
     "text": [
      "   id source                                               text  created_at  \\\n",
      "0   1      x  gusy mending sunscreen omg apa yang amaterasun...  2025-06-16   \n",
      "1   2      x  @yoenjaehyuk fw: hadalabo gokujyun (putih) / h...  2025-06-16   \n",
      "2   3      x  Aku nemu promo menarik di Lazada nih. Yuk coba...  2025-06-15   \n",
      "3   4      x  Haloooo aku maw preloved skincare pemakaian pr...  2025-06-15   \n",
      "4   5      x  Gusyyyy mungkin ada yg pake sunscreen amateras...  2025-06-15   \n",
      "\n",
      "  sentimen  skor_sentimen  \n",
      "0  neutral       0.987218  \n",
      "1  neutral       0.776992  \n",
      "2  neutral       0.960741  \n",
      "3  neutral       0.819093  \n",
      "4  neutral       0.993792  \n"
     ]
    }
   ],
   "source": [
    "print(df.head())"
   ]
  },
  {
   "cell_type": "code",
   "execution_count": 58,
   "id": "7b0c70d4",
   "metadata": {},
   "outputs": [],
   "source": [
    "import pandas as pd\n",
    "import re\n",
    "import string\n",
    "import os\n",
    "from Sastrawi.Stemmer.StemmerFactory import StemmerFactory\n",
    "from Sastrawi.StopWordRemover.StopWordRemoverFactory import StopWordRemoverFactory"
   ]
  },
  {
   "cell_type": "code",
   "execution_count": 59,
   "id": "811369e0",
   "metadata": {},
   "outputs": [],
   "source": [
    "stemmer = StemmerFactory().create_stemmer()\n",
    "stopword_remover = StopWordRemoverFactory().create_stop_word_remover()"
   ]
  },
  {
   "cell_type": "code",
   "execution_count": 60,
   "id": "253640eb",
   "metadata": {},
   "outputs": [],
   "source": [
    "# Fungsi preprocessing lengkap\n",
    "def preprocess(text):\n",
    "    # Lowercase\n",
    "    text = text.lower()\n",
    "    # Hapus username\n",
    "    text = re.sub(r'@\\w+', '', text)\n",
    "    # Hapus URL\n",
    "    text = re.sub(r'http\\S+|www.\\S+', '', text)\n",
    "    # Hapus angka dan tanda baca\n",
    "    text = re.sub(r'\\d+', '', text)\n",
    "    text = text.translate(str.maketrans('', '', string.punctuation))\n",
    "    # Hapus whitespace berlebih\n",
    "    text = text.strip()\n",
    "    # Hapus stopword\n",
    "    text = stopword_remover.remove(text)\n",
    "    # Stemming\n",
    "    text = stemmer.stem(text)\n",
    "    return text\n"
   ]
  },
  {
   "cell_type": "code",
   "execution_count": 61,
   "id": "654b6cad",
   "metadata": {},
   "outputs": [],
   "source": [
    "df[\"preprocessed_text\"] = df[\"text\"].apply(preprocess)"
   ]
  },
  {
   "cell_type": "code",
   "execution_count": 66,
   "id": "141cc96c",
   "metadata": {},
   "outputs": [],
   "source": [
    "keywords_penjual = [\n",
    "    # Kata jualan/promosi\n",
    "    \"jual\", \"harga\", \"diskon\", \"promo\", \"gratis\", \"murah\", \"hemat\",\n",
    "    \"beli\", \"pesan\", \"checkout\", \"ready\", \"stock\", \"open po\", \"preorder\",\n",
    "    \"limited\", \"termurah\", \"cepat\", \"promo gila\", \"borong\", \"paket\", \"cuma\", \"hanya\",\n",
    "\n",
    "    # Call to action\n",
    "    \"order\", \"dm\", \"chat\", \"klik\", \"kunjungi\", \"swipe\", \"cek link\", \"lihat link\",\n",
    "    \"yuk cek\", \"yuk beli\", \"buruan\", \"dapetin\", \"dapatkan\", \"langsung aja\", \"langsung dm\",\n",
    "\n",
    "    # Transaksi dan kontak\n",
    "    \"transfer\", \"cod\", \"bayar\", \"rekening\", \"no rek\", \"ongkir\", \"wa\", \"whatsapp\", \"linktree\",\n",
    "    \"tokopedia\", \"shopee\", \"lazada\", \"blibli\", \"checkout sekarang\",\n",
    "\n",
    "    # Istilah jualan preloved atau dropship\n",
    "    \"preloved\", \"second\", \"bekas\", \"bisa nego\", \"nego\", \"reseller\", \"dropship\", \"stok terbatas\",\n",
    "\n",
    "    # Penawaran dan tawaran\n",
    "    \"tawar\", \"tawaran\", \"grab\", \"ambil\", \"ambil sekarang\", \"open slot\", \"promo spesial\"\n",
    "]\n",
    "\n",
    "def is_penjual(text):\n",
    "    text = str(text).lower()\n",
    "    return any(keyword in text for keyword in keywords_penjual)"
   ]
  },
  {
   "cell_type": "code",
   "execution_count": 67,
   "id": "0fb3cae0",
   "metadata": {},
   "outputs": [],
   "source": [
    "df['is_penjual'] = df['preprocessed_text'].apply(is_penjual)\n",
    "df_final = df[~df['is_penjual']].drop(columns=['is_penjual'])"
   ]
  },
  {
   "cell_type": "code",
   "execution_count": 68,
   "id": "82da159d",
   "metadata": {},
   "outputs": [],
   "source": [
    "df_final = df_final[['id', 'source', 'created_at', 'preprocessed_text', 'sentimen', 'skor_sentimen']]\n"
   ]
  },
  {
   "cell_type": "code",
   "execution_count": 69,
   "id": "078f0976",
   "metadata": {},
   "outputs": [],
   "source": [
    "os.makedirs('../data/processed', exist_ok=True)\n",
    "df_final.to_csv('../data/processed/done.csv', index=False)"
   ]
  },
  {
   "cell_type": "code",
   "execution_count": 70,
   "id": "0bdcad56",
   "metadata": {},
   "outputs": [
    {
     "name": "stdout",
     "output_type": "stream",
     "text": [
      "Requirement already satisfied: scikit-learn in c:\\users\\mybook saga 12\\appdata\\local\\packages\\pythonsoftwarefoundation.python.3.11_qbz5n2kfra8p0\\localcache\\local-packages\\python311\\site-packages (1.4.2)\n",
      "Requirement already satisfied: pandas in c:\\users\\mybook saga 12\\appdata\\local\\packages\\pythonsoftwarefoundation.python.3.11_qbz5n2kfra8p0\\localcache\\local-packages\\python311\\site-packages (2.2.0)\n",
      "Requirement already satisfied: numpy>=1.19.5 in c:\\users\\mybook saga 12\\appdata\\local\\packages\\pythonsoftwarefoundation.python.3.11_qbz5n2kfra8p0\\localcache\\local-packages\\python311\\site-packages (from scikit-learn) (1.26.4)\n",
      "Requirement already satisfied: scipy>=1.6.0 in c:\\users\\mybook saga 12\\appdata\\local\\packages\\pythonsoftwarefoundation.python.3.11_qbz5n2kfra8p0\\localcache\\local-packages\\python311\\site-packages (from scikit-learn) (1.15.0)\n",
      "Requirement already satisfied: joblib>=1.2.0 in c:\\users\\mybook saga 12\\appdata\\local\\packages\\pythonsoftwarefoundation.python.3.11_qbz5n2kfra8p0\\localcache\\local-packages\\python311\\site-packages (from scikit-learn) (1.4.2)\n",
      "Requirement already satisfied: threadpoolctl>=2.0.0 in c:\\users\\mybook saga 12\\appdata\\local\\packages\\pythonsoftwarefoundation.python.3.11_qbz5n2kfra8p0\\localcache\\local-packages\\python311\\site-packages (from scikit-learn) (3.5.0)\n",
      "Requirement already satisfied: python-dateutil>=2.8.2 in c:\\users\\mybook saga 12\\appdata\\local\\packages\\pythonsoftwarefoundation.python.3.11_qbz5n2kfra8p0\\localcache\\local-packages\\python311\\site-packages (from pandas) (2.8.2)\n",
      "Requirement already satisfied: pytz>=2020.1 in c:\\users\\mybook saga 12\\appdata\\local\\packages\\pythonsoftwarefoundation.python.3.11_qbz5n2kfra8p0\\localcache\\local-packages\\python311\\site-packages (from pandas) (2023.3)\n",
      "Requirement already satisfied: tzdata>=2022.7 in c:\\users\\mybook saga 12\\appdata\\local\\packages\\pythonsoftwarefoundation.python.3.11_qbz5n2kfra8p0\\localcache\\local-packages\\python311\\site-packages (from pandas) (2023.3)\n",
      "Requirement already satisfied: six>=1.5 in c:\\users\\mybook saga 12\\appdata\\local\\packages\\pythonsoftwarefoundation.python.3.11_qbz5n2kfra8p0\\localcache\\local-packages\\python311\\site-packages (from python-dateutil>=2.8.2->pandas) (1.16.0)\n"
     ]
    },
    {
     "name": "stderr",
     "output_type": "stream",
     "text": [
      "\n",
      "[notice] A new release of pip is available: 24.3.1 -> 25.1.1\n",
      "[notice] To update, run: C:\\Users\\MyBook SAGA 12\\AppData\\Local\\Microsoft\\WindowsApps\\PythonSoftwareFoundation.Python.3.11_qbz5n2kfra8p0\\python.exe -m pip install --upgrade pip\n"
     ]
    }
   ],
   "source": [
    "!pip install scikit-learn pandas"
   ]
  },
  {
   "cell_type": "code",
   "execution_count": 78,
   "id": "1067ed00",
   "metadata": {},
   "outputs": [],
   "source": [
    "import pandas as pd\n",
    "from sklearn.feature_extraction.text import TfidfVectorizer, CountVectorizer\n",
    "from sklearn.feature_selection import SelectKBest, chi2\n",
    "from sklearn.preprocessing import LabelEncoder"
   ]
  },
  {
   "cell_type": "code",
   "execution_count": 80,
   "id": "d8d629d2",
   "metadata": {},
   "outputs": [
    {
     "data": {
      "text/html": [
       "<div>\n",
       "<style scoped>\n",
       "    .dataframe tbody tr th:only-of-type {\n",
       "        vertical-align: middle;\n",
       "    }\n",
       "\n",
       "    .dataframe tbody tr th {\n",
       "        vertical-align: top;\n",
       "    }\n",
       "\n",
       "    .dataframe thead th {\n",
       "        text-align: right;\n",
       "    }\n",
       "</style>\n",
       "<table border=\"1\" class=\"dataframe\">\n",
       "  <thead>\n",
       "    <tr style=\"text-align: right;\">\n",
       "      <th></th>\n",
       "      <th>id</th>\n",
       "      <th>source</th>\n",
       "      <th>created_at</th>\n",
       "      <th>preprocessed_text</th>\n",
       "      <th>sentimen</th>\n",
       "      <th>skor_sentimen</th>\n",
       "    </tr>\n",
       "  </thead>\n",
       "  <tbody>\n",
       "    <tr>\n",
       "      <th>0</th>\n",
       "      <td>1</td>\n",
       "      <td>x</td>\n",
       "      <td>2025-06-16</td>\n",
       "      <td>gusy mending sunscreen omg apa amaterasun buat...</td>\n",
       "      <td>neutral</td>\n",
       "      <td>0.987218</td>\n",
       "    </tr>\n",
       "    <tr>\n",
       "      <th>1</th>\n",
       "      <td>10</td>\n",
       "      <td>x</td>\n",
       "      <td>2025-06-15</td>\n",
       "      <td>wts physical sunscreen amaterasun pakai sekali...</td>\n",
       "      <td>neutral</td>\n",
       "      <td>0.987875</td>\n",
       "    </tr>\n",
       "    <tr>\n",
       "      <th>2</th>\n",
       "      <td>15</td>\n",
       "      <td>x</td>\n",
       "      <td>2025-06-14</td>\n",
       "      <td>amaterasun uv sunscreen serum spf pa melindung...</td>\n",
       "      <td>neutral</td>\n",
       "      <td>0.801552</td>\n",
       "    </tr>\n",
       "    <tr>\n",
       "      <th>3</th>\n",
       "      <td>18</td>\n",
       "      <td>x</td>\n",
       "      <td>2025-06-14</td>\n",
       "      <td>amaterasun cb kak yg physical sunscreen</td>\n",
       "      <td>neutral</td>\n",
       "      <td>0.964037</td>\n",
       "    </tr>\n",
       "    <tr>\n",
       "      <th>4</th>\n",
       "      <td>20</td>\n",
       "      <td>x</td>\n",
       "      <td>2025-06-13</td>\n",
       "      <td>saranin sunscreen bisa nahan minyak ga longsor...</td>\n",
       "      <td>negative</td>\n",
       "      <td>0.684278</td>\n",
       "    </tr>\n",
       "  </tbody>\n",
       "</table>\n",
       "</div>"
      ],
      "text/plain": [
       "   id source  created_at                                  preprocessed_text  \\\n",
       "0   1      x  2025-06-16  gusy mending sunscreen omg apa amaterasun buat...   \n",
       "1  10      x  2025-06-15  wts physical sunscreen amaterasun pakai sekali...   \n",
       "2  15      x  2025-06-14  amaterasun uv sunscreen serum spf pa melindung...   \n",
       "3  18      x  2025-06-14            amaterasun cb kak yg physical sunscreen   \n",
       "4  20      x  2025-06-13  saranin sunscreen bisa nahan minyak ga longsor...   \n",
       "\n",
       "   sentimen  skor_sentimen  \n",
       "0   neutral       0.987218  \n",
       "1   neutral       0.987875  \n",
       "2   neutral       0.801552  \n",
       "3   neutral       0.964037  \n",
       "4  negative       0.684278  "
      ]
     },
     "execution_count": 80,
     "metadata": {},
     "output_type": "execute_result"
    }
   ],
   "source": [
    "df = pd.read_csv('../data/processed/done.csv')\n",
    "df.head()"
   ]
  },
  {
   "cell_type": "code",
   "execution_count": 81,
   "id": "2e3796b4",
   "metadata": {},
   "outputs": [],
   "source": [
    "texts = df['preprocessed_text'].astype(str)\n",
    "labels = df['sentimen']"
   ]
  },
  {
   "cell_type": "code",
   "execution_count": 82,
   "id": "8259c425",
   "metadata": {},
   "outputs": [],
   "source": [
    "le = LabelEncoder()\n",
    "y = le.fit_transform(labels)"
   ]
  },
  {
   "cell_type": "code",
   "execution_count": 83,
   "id": "8222f92f",
   "metadata": {},
   "outputs": [
    {
     "name": "stdout",
     "output_type": "stream",
     "text": [
      "TF-IDF - Ukuran vektor fitur: (548, 1179)\n"
     ]
    }
   ],
   "source": [
    "tfidf = TfidfVectorizer()\n",
    "X_tfidf = tfidf.fit_transform(texts)\n",
    "print(\"TF-IDF - Ukuran vektor fitur:\", X_tfidf.shape)"
   ]
  },
  {
   "cell_type": "code",
   "execution_count": 84,
   "id": "21903bb1",
   "metadata": {},
   "outputs": [
    {
     "name": "stdout",
     "output_type": "stream",
     "text": [
      "BoW - Ukuran vektor fitur: (548, 1179)\n"
     ]
    }
   ],
   "source": [
    "bow = CountVectorizer()\n",
    "X_bow = bow.fit_transform(texts)\n",
    "print(\"BoW - Ukuran vektor fitur:\", X_bow.shape)"
   ]
  },
  {
   "cell_type": "code",
   "execution_count": 85,
   "id": "96858bf5",
   "metadata": {},
   "outputs": [
    {
     "name": "stdout",
     "output_type": "stream",
     "text": [
      "Setelah Feature Selection (TF-IDF): (548, 100)\n"
     ]
    }
   ],
   "source": [
    "selector = SelectKBest(score_func=chi2, k=100)\n",
    "X_selected = selector.fit_transform(X_tfidf, y)\n",
    "print(\"Setelah Feature Selection (TF-IDF):\", X_selected.shape)"
   ]
  },
  {
   "cell_type": "code",
   "execution_count": 88,
   "id": "b5fa1c92",
   "metadata": {},
   "outputs": [
    {
     "name": "stdout",
     "output_type": "stream",
     "text": [
      "Setelah Feature Selection (BOW): (548, 100)\n"
     ]
    }
   ],
   "source": [
    "selector = SelectKBest(score_func=chi2, k=100)\n",
    "X_selected = selector.fit_transform(X_bow, y)\n",
    "print(\"Setelah Feature Selection (BOW):\", X_selected.shape)"
   ]
  },
  {
   "cell_type": "code",
   "execution_count": null,
   "id": "4b7c2db4",
   "metadata": {},
   "outputs": [],
   "source": []
  }
 ],
 "metadata": {
  "kernelspec": {
   "display_name": "base",
   "language": "python",
   "name": "python3"
  },
  "language_info": {
   "codemirror_mode": {
    "name": "ipython",
    "version": 3
   },
   "file_extension": ".py",
   "mimetype": "text/x-python",
   "name": "python",
   "nbconvert_exporter": "python",
   "pygments_lexer": "ipython3",
   "version": "3.10.9"
  }
 },
 "nbformat": 4,
 "nbformat_minor": 5
}
